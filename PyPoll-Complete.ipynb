{
 "cells": [
  {
   "cell_type": "code",
   "execution_count": 1,
   "id": "a2a15352-57cf-4334-a4eb-fc930a713722",
   "metadata": {},
   "outputs": [],
   "source": [
    "import pandas as pd"
   ]
  },
  {
   "cell_type": "code",
   "execution_count": 2,
   "id": "eb24cc44-7899-412b-890f-453464c0f006",
   "metadata": {},
   "outputs": [
    {
     "data": {
      "text/html": [
       "<div>\n",
       "<style scoped>\n",
       "    .dataframe tbody tr th:only-of-type {\n",
       "        vertical-align: middle;\n",
       "    }\n",
       "\n",
       "    .dataframe tbody tr th {\n",
       "        vertical-align: top;\n",
       "    }\n",
       "\n",
       "    .dataframe thead th {\n",
       "        text-align: right;\n",
       "    }\n",
       "</style>\n",
       "<table border=\"1\" class=\"dataframe\">\n",
       "  <thead>\n",
       "    <tr style=\"text-align: right;\">\n",
       "      <th></th>\n",
       "      <th>Date</th>\n",
       "      <th>Profit/Losses</th>\n",
       "    </tr>\n",
       "  </thead>\n",
       "  <tbody>\n",
       "    <tr>\n",
       "      <th>0</th>\n",
       "      <td>Jan-10</td>\n",
       "      <td>1088983</td>\n",
       "    </tr>\n",
       "    <tr>\n",
       "      <th>1</th>\n",
       "      <td>Feb-10</td>\n",
       "      <td>-354534</td>\n",
       "    </tr>\n",
       "    <tr>\n",
       "      <th>2</th>\n",
       "      <td>Mar-10</td>\n",
       "      <td>276622</td>\n",
       "    </tr>\n",
       "    <tr>\n",
       "      <th>3</th>\n",
       "      <td>Apr-10</td>\n",
       "      <td>-728133</td>\n",
       "    </tr>\n",
       "    <tr>\n",
       "      <th>4</th>\n",
       "      <td>May-10</td>\n",
       "      <td>852993</td>\n",
       "    </tr>\n",
       "  </tbody>\n",
       "</table>\n",
       "</div>"
      ],
      "text/plain": [
       "     Date  Profit/Losses\n",
       "0  Jan-10        1088983\n",
       "1  Feb-10        -354534\n",
       "2  Mar-10         276622\n",
       "3  Apr-10        -728133\n",
       "4  May-10         852993"
      ]
     },
     "execution_count": 2,
     "metadata": {},
     "output_type": "execute_result"
    }
   ],
   "source": [
    "#open/view CSV file\n",
    "csv_path = \"/Users/daniellesears/Downloads/budget_data.csv\"\n",
    "\n",
    "df = pd.read_csv(csv_path)\n",
    "df.head()"
   ]
  },
  {
   "cell_type": "code",
   "execution_count": 3,
   "id": "1351dc0a-67de-4e7c-a794-75e6d8b81971",
   "metadata": {},
   "outputs": [],
   "source": [
    "#Calculate the total number of months included in this dataset\n",
    "Months = df[\"Date\"].count()"
   ]
  },
  {
   "cell_type": "code",
   "execution_count": 4,
   "id": "18d9e23c-27be-45be-955b-3a2182cad2cf",
   "metadata": {},
   "outputs": [
    {
     "name": "stdout",
     "output_type": "stream",
     "text": [
      "22564198\n"
     ]
    }
   ],
   "source": [
    "#calculate net total profit/losses over entire period\n",
    "total_sum = df[\"Profit/Losses\"].sum()\n",
    "\n",
    "print (total_sum)"
   ]
  },
  {
   "cell_type": "code",
   "execution_count": 5,
   "id": "86c1f90c-5688-4f29-9875-d00285931414",
   "metadata": {},
   "outputs": [
    {
     "data": {
      "text/html": [
       "<div>\n",
       "<style scoped>\n",
       "    .dataframe tbody tr th:only-of-type {\n",
       "        vertical-align: middle;\n",
       "    }\n",
       "\n",
       "    .dataframe tbody tr th {\n",
       "        vertical-align: top;\n",
       "    }\n",
       "\n",
       "    .dataframe thead th {\n",
       "        text-align: right;\n",
       "    }\n",
       "</style>\n",
       "<table border=\"1\" class=\"dataframe\">\n",
       "  <thead>\n",
       "    <tr style=\"text-align: right;\">\n",
       "      <th></th>\n",
       "      <th>Date</th>\n",
       "      <th>Profit/Losses</th>\n",
       "      <th>Change</th>\n",
       "    </tr>\n",
       "  </thead>\n",
       "  <tbody>\n",
       "    <tr>\n",
       "      <th>0</th>\n",
       "      <td>Jan-10</td>\n",
       "      <td>1088983</td>\n",
       "      <td>0</td>\n",
       "    </tr>\n",
       "    <tr>\n",
       "      <th>1</th>\n",
       "      <td>Feb-10</td>\n",
       "      <td>-354534</td>\n",
       "      <td>-1443517</td>\n",
       "    </tr>\n",
       "    <tr>\n",
       "      <th>2</th>\n",
       "      <td>Mar-10</td>\n",
       "      <td>276622</td>\n",
       "      <td>631156</td>\n",
       "    </tr>\n",
       "    <tr>\n",
       "      <th>3</th>\n",
       "      <td>Apr-10</td>\n",
       "      <td>-728133</td>\n",
       "      <td>-1004755</td>\n",
       "    </tr>\n",
       "    <tr>\n",
       "      <th>4</th>\n",
       "      <td>May-10</td>\n",
       "      <td>852993</td>\n",
       "      <td>1581126</td>\n",
       "    </tr>\n",
       "    <tr>\n",
       "      <th>...</th>\n",
       "      <td>...</td>\n",
       "      <td>...</td>\n",
       "      <td>...</td>\n",
       "    </tr>\n",
       "    <tr>\n",
       "      <th>81</th>\n",
       "      <td>Oct-16</td>\n",
       "      <td>-729004</td>\n",
       "      <td>-1627245</td>\n",
       "    </tr>\n",
       "    <tr>\n",
       "      <th>82</th>\n",
       "      <td>Nov-16</td>\n",
       "      <td>-112209</td>\n",
       "      <td>616795</td>\n",
       "    </tr>\n",
       "    <tr>\n",
       "      <th>83</th>\n",
       "      <td>Dec-16</td>\n",
       "      <td>516313</td>\n",
       "      <td>628522</td>\n",
       "    </tr>\n",
       "    <tr>\n",
       "      <th>84</th>\n",
       "      <td>Jan-17</td>\n",
       "      <td>607208</td>\n",
       "      <td>90895</td>\n",
       "    </tr>\n",
       "    <tr>\n",
       "      <th>85</th>\n",
       "      <td>Feb-17</td>\n",
       "      <td>382539</td>\n",
       "      <td>-224669</td>\n",
       "    </tr>\n",
       "  </tbody>\n",
       "</table>\n",
       "<p>86 rows × 3 columns</p>\n",
       "</div>"
      ],
      "text/plain": [
       "      Date  Profit/Losses   Change\n",
       "0   Jan-10        1088983        0\n",
       "1   Feb-10        -354534 -1443517\n",
       "2   Mar-10         276622   631156\n",
       "3   Apr-10        -728133 -1004755\n",
       "4   May-10         852993  1581126\n",
       "..     ...            ...      ...\n",
       "81  Oct-16        -729004 -1627245\n",
       "82  Nov-16        -112209   616795\n",
       "83  Dec-16         516313   628522\n",
       "84  Jan-17         607208    90895\n",
       "85  Feb-17         382539  -224669\n",
       "\n",
       "[86 rows x 3 columns]"
      ]
     },
     "execution_count": 5,
     "metadata": {},
     "output_type": "execute_result"
    }
   ],
   "source": [
    "#Calculate the changes in \"Profit/Losses\" over the entire period, and then the average of those changes\n",
    "\n",
    "Previous_Value = df.loc[0, \"Profit/Losses\"]\n",
    "Net_Change = []\n",
    "\n",
    "for x, y in df.iterrows():\n",
    "    \n",
    "    Difference = (y[\"Profit/Losses\"])-Previous_Value\n",
    "    Net_Change.append(Difference)\n",
    "    Previous_Value = (y[\"Profit/Losses\"])\n",
    "       \n",
    "df[\"Change\"] = Net_Change\n",
    "df"
   ]
  },
  {
   "cell_type": "code",
   "execution_count": 6,
   "id": "fefffd48-fec2-4a87-bf59-96b241f4241e",
   "metadata": {},
   "outputs": [],
   "source": [
    "#Calculate the greatest increase in profits\n",
    "GreatestIncrease = df[\"Change\"].max()\n",
    "Gi_Date = df[df[\"Change\"] == GreatestIncrease][\"Date\"].values[0]"
   ]
  },
  {
   "cell_type": "code",
   "execution_count": 7,
   "id": "69219d37-d32b-447f-9d0f-45f8f829fc36",
   "metadata": {},
   "outputs": [],
   "source": [
    "# #Calculate the greatest decrease in profits\n",
    "GreatestDecrease = df[\"Change\"].min()\n",
    "Gd_Date = df[df[\"Change\"] == GreatestDecrease][\"Date\"].values[0]"
   ]
  },
  {
   "cell_type": "code",
   "execution_count": 9,
   "id": "074eba9b-a932-4555-831b-d2a16f446e7a",
   "metadata": {},
   "outputs": [],
   "source": [
    "#Calculate average change\n",
    "#average_change = round(df[\"Profit/Losses\"][1:].mean(), 2)\n",
    "\n",
    "total_changes = df[\"Profit/Losses\"].sum()\n",
    "average_change = total_changes / (Months - 1)\n",
    "average_change = round(average_change, 2)"
   ]
  },
  {
   "cell_type": "code",
   "execution_count": 10,
   "id": "c6ff07b2-d891-4798-b461-b89e3a01e835",
   "metadata": {},
   "outputs": [
    {
     "name": "stdout",
     "output_type": "stream",
     "text": [
      "Financial Analysis\n",
      "Total Months: 86\n",
      "Total: 22564198\n",
      "Average Change: 265461.15\n",
      "Greatest Increase in Profits: Aug-16  (1862002)\n",
      "Greatest Decrease in Profits: Feb-14 (-1825558)\n"
     ]
    }
   ],
   "source": [
    "#Print the financial analysis\n",
    "\n",
    "print (\"Financial Analysis\")\n",
    "\n",
    "print(\"Total Months:\", Months)\n",
    "print (\"Total:\", total_sum)\n",
    "print(\"Average Change:\", average_change)\n",
    "print(f\"Greatest Increase in Profits: {Gi_Date}  ({GreatestIncrease})\")\n",
    "print(f\"Greatest Decrease in Profits: {Gd_Date} ({GreatestDecrease})\")"
   ]
  },
  {
   "cell_type": "code",
   "execution_count": null,
   "id": "676fc129-a29b-4d94-b70b-966539e3fd21",
   "metadata": {},
   "outputs": [],
   "source": []
  }
 ],
 "metadata": {
  "kernelspec": {
   "display_name": "Python 3 (ipykernel)",
   "language": "python",
   "name": "python3"
  },
  "language_info": {
   "codemirror_mode": {
    "name": "ipython",
    "version": 3
   },
   "file_extension": ".py",
   "mimetype": "text/x-python",
   "name": "python",
   "nbconvert_exporter": "python",
   "pygments_lexer": "ipython3",
   "version": "3.9.7"
  }
 },
 "nbformat": 4,
 "nbformat_minor": 5
}
