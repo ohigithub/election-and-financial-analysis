{
 "cells": [
  {
   "cell_type": "code",
   "execution_count": 1,
   "id": "5c5f1293-1904-4a0a-8e32-358bf152328c",
   "metadata": {},
   "outputs": [],
   "source": [
    "import pandas as pd"
   ]
  },
  {
   "cell_type": "code",
   "execution_count": 2,
   "id": "91d24795-9037-4fa6-a644-0d2c82dc348a",
   "metadata": {},
   "outputs": [
    {
     "data": {
      "text/html": [
       "<div>\n",
       "<style scoped>\n",
       "    .dataframe tbody tr th:only-of-type {\n",
       "        vertical-align: middle;\n",
       "    }\n",
       "\n",
       "    .dataframe tbody tr th {\n",
       "        vertical-align: top;\n",
       "    }\n",
       "\n",
       "    .dataframe thead th {\n",
       "        text-align: right;\n",
       "    }\n",
       "</style>\n",
       "<table border=\"1\" class=\"dataframe\">\n",
       "  <thead>\n",
       "    <tr style=\"text-align: right;\">\n",
       "      <th></th>\n",
       "      <th>Ballot ID</th>\n",
       "      <th>County</th>\n",
       "      <th>Candidate</th>\n",
       "    </tr>\n",
       "  </thead>\n",
       "  <tbody>\n",
       "    <tr>\n",
       "      <th>0</th>\n",
       "      <td>1323913</td>\n",
       "      <td>Jefferson</td>\n",
       "      <td>Charles Casper Stockham</td>\n",
       "    </tr>\n",
       "    <tr>\n",
       "      <th>1</th>\n",
       "      <td>1005842</td>\n",
       "      <td>Jefferson</td>\n",
       "      <td>Charles Casper Stockham</td>\n",
       "    </tr>\n",
       "    <tr>\n",
       "      <th>2</th>\n",
       "      <td>1880345</td>\n",
       "      <td>Jefferson</td>\n",
       "      <td>Charles Casper Stockham</td>\n",
       "    </tr>\n",
       "    <tr>\n",
       "      <th>3</th>\n",
       "      <td>1600337</td>\n",
       "      <td>Jefferson</td>\n",
       "      <td>Charles Casper Stockham</td>\n",
       "    </tr>\n",
       "    <tr>\n",
       "      <th>4</th>\n",
       "      <td>1835994</td>\n",
       "      <td>Jefferson</td>\n",
       "      <td>Charles Casper Stockham</td>\n",
       "    </tr>\n",
       "  </tbody>\n",
       "</table>\n",
       "</div>"
      ],
      "text/plain": [
       "   Ballot ID     County                Candidate\n",
       "0    1323913  Jefferson  Charles Casper Stockham\n",
       "1    1005842  Jefferson  Charles Casper Stockham\n",
       "2    1880345  Jefferson  Charles Casper Stockham\n",
       "3    1600337  Jefferson  Charles Casper Stockham\n",
       "4    1835994  Jefferson  Charles Casper Stockham"
      ]
     },
     "execution_count": 2,
     "metadata": {},
     "output_type": "execute_result"
    }
   ],
   "source": [
    "#open/view CSV file\n",
    "\n",
    "csv_path = \"/Users/daniellesears/Downloads/election_data.csv\"\n",
    "\n",
    "df = pd.read_csv(csv_path)\n",
    "df.head()"
   ]
  },
  {
   "cell_type": "code",
   "execution_count": 10,
   "id": "ec581fa5-ab9f-4750-96a2-960e872f230d",
   "metadata": {},
   "outputs": [],
   "source": [
    "#calculate the total # of votes cast\n",
    "total_votes = df[\"Ballot ID\"].count()\n",
    "\n",
    "#create a complete list of candidates who received votes\n",
    "specific_candidates_list = df[\"Candidate\"].unique()"
   ]
  },
  {
   "cell_type": "code",
   "execution_count": 11,
   "id": "efe1e330-1bc6-4e1a-ac54-01fd8cf5ee1b",
   "metadata": {},
   "outputs": [],
   "source": [
    "#calculate the percentage of votes each candidate won and list the total number of votes each candidate won\n",
    "\n",
    "vote_1 = 0\n",
    "vote_2 = 0\n",
    "vote_3 = 0\n",
    "\n",
    "\n",
    "\n",
    "for candidate in df[\"Candidate\"]:\n",
    "    if candidate == \"Charles Casper Stockham\":\n",
    "        vote_1 += 1\n",
    "    \n",
    "    elif candidate == \"Diana DeGette\":\n",
    "        vote_2 += 1\n",
    "        \n",
    "    elif candidate == \"Raymon Anthony Doane\":\n",
    "        vote_3 += 1"
   ]
  },
  {
   "cell_type": "code",
   "execution_count": 12,
   "id": "7bbc5dfa-e99d-4875-884c-34f1a3266803",
   "metadata": {},
   "outputs": [
    {
     "name": "stdout",
     "output_type": "stream",
     "text": [
      "0.2304854332167558\n",
      "0.7381224794501652\n",
      "0.03139208733307908\n",
      "Election Results\n"
     ]
    }
   ],
   "source": [
    "#print(\"(vote_1)\")(\"{:,1f}%\".format)\n",
    "print(vote_1/total_votes)\n",
    "print(vote_2/total_votes)\n",
    "print(vote_3/total_votes)\n",
    "#calculate the winner\n",
    "\n",
    "most_votes = max(vote_1, vote_2, vote_3)\n",
    "\n",
    "if most_votes == vote_2:\n",
    "    most_votes == \"Diana DeGette\"\n",
    "\n",
    "\n",
    "print(\"Election Results\")"
   ]
  },
  {
   "cell_type": "code",
   "execution_count": 9,
   "id": "968127fd-42b8-4d0e-adcf-7d5065b77c22",
   "metadata": {},
   "outputs": [
    {
     "name": "stdout",
     "output_type": "stream",
     "text": [
      "Total Votes: 369711\n",
      "Winner: 272892\n"
     ]
    }
   ],
   "source": [
    "#How do I get the line seperating the title of this analysis from the analysis itself?\n",
    "print(\"Total Votes:\", total_votes)\n",
    "print(\"Winner:\", most_votes)"
   ]
  },
  {
   "cell_type": "code",
   "execution_count": null,
   "id": "8897c0be-9b87-476c-8fb7-5cf9bf082693",
   "metadata": {},
   "outputs": [],
   "source": []
  }
 ],
 "metadata": {
  "kernelspec": {
   "display_name": "Python 3 (ipykernel)",
   "language": "python",
   "name": "python3"
  },
  "language_info": {
   "codemirror_mode": {
    "name": "ipython",
    "version": 3
   },
   "file_extension": ".py",
   "mimetype": "text/x-python",
   "name": "python",
   "nbconvert_exporter": "python",
   "pygments_lexer": "ipython3",
   "version": "3.9.7"
  }
 },
 "nbformat": 4,
 "nbformat_minor": 5
}
